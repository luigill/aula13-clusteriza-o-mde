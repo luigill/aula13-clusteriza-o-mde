{
 "cells": [
  {
   "cell_type": "markdown",
   "metadata": {},
   "source": [
    "# Aula 13 - Aprendizado de Máquina Não Supervisionado\n",
    "## Lui Gill Aquini - 24201083   "
   ]
  },
  {
   "cell_type": "code",
   "execution_count": 14,
   "metadata": {},
   "outputs": [],
   "source": [
    "import numpy as np\n",
    "import matplotlib.pyplot as plt\n",
    "import pandas as pd\n",
    "import gdown\n",
    "\n",
    "from sklearn.cluster import kmeans_plusplus, KMeans"
   ]
  },
  {
   "cell_type": "code",
   "execution_count": null,
   "metadata": {},
   "outputs": [
    {
     "name": "stderr",
     "output_type": "stream",
     "text": [
      "Downloading...\n",
      "From: https://drive.google.com/uc?id=1DTS16KnFFUWWlBsbBhiHzG-_6TtonSml\n",
      "To: /home/luigill/source/mde/aula13/dataset.csv\n",
      "100%|██████████| 14.9k/14.9k [00:00<00:00, 14.2MB/s]\n"
     ]
    },
    {
     "data": {
      "text/plain": [
       "'dataset.csv'"
      ]
     },
     "execution_count": 15,
     "metadata": {},
     "output_type": "execute_result"
    }
   ],
   "source": [
    "# Download do dataset por meio da ferramenta gdown\n",
    "\n",
    "url = (\n",
    "     'https://drive.google.com/uc?id=1DTS16KnFFUWWlBsbBhiHzG-_6TtonSml'\n",
    ")\n",
    "\n",
    "output = 'dataset.csv'\n",
    "\n",
    "gdown.download(url,output)"
   ]
  },
  {
   "cell_type": "code",
   "execution_count": null,
   "metadata": {},
   "outputs": [],
   "source": [
    "# Inicialização do dataset\n",
    "dataframe = pd.read_csv(\"dataset.csv\")\n",
    "dataframe.head(5)\n",
    "\n",
    "data_array = dataframe.values"
   ]
  },
  {
   "cell_type": "code",
   "execution_count": null,
   "metadata": {},
   "outputs": [
    {
     "name": "stdout",
     "output_type": "stream",
     "text": [
      "CENTROIDES\n",
      "[[399 752 799 815 782 660]\n",
      " [374 197 156  57 180 750]]\n",
      "INDICES\n",
      "[226 425]\n"
     ]
    }
   ],
   "source": [
    "# Aplicação do KMeans++\n",
    "centers, indices = kmeans_plusplus(data_array, n_clusters=2, random_state=42)\n",
    "print(\"CENTROIDES\")\n",
    "print(centers)\n",
    "print(\"INDICES\")\n",
    "print(indices)"
   ]
  },
  {
   "cell_type": "code",
   "execution_count": 18,
   "metadata": {},
   "outputs": [
    {
     "name": "stdout",
     "output_type": "stream",
     "text": [
      "Centros dos Clusters:\n",
      "[[554.14551084 487.87616099 751.97832817 518.2879257  548.65944272\n",
      "  616.44272446]\n",
      " [456.88339223 539.83038869 256.02120141 468.6360424  417.59010601\n",
      "  587.27561837]]\n",
      "Índices das 2 features com a maior diferença:\n",
      "[4 2]\n",
      "Nomes das 2 features com a maior diferença:\n",
      "Index(['e', 'c'], dtype='object')\n"
     ]
    }
   ],
   "source": [
    "# Ajustar o modelo k-means com os centros inicializados\n",
    "kmeans = KMeans(n_clusters=2, init=centers, n_init=1)\n",
    "kmeans.fit(data_array)\n",
    "\n",
    "# Observar os centros dos clusters\n",
    "centers_cluster = kmeans.cluster_centers_\n",
    "print(\"Centros dos Clusters:\")\n",
    "print(centers_cluster)\n",
    "\n",
    "# Calcular a diferença absoluta entre os centros dos clusters para cada feature\n",
    "differences = np.abs(centers_cluster[0] - centers_cluster[1])\n",
    "\n",
    "# Identificar os índices das features com as maiores diferenças\n",
    "top_2_attributes_indices = np.argsort(differences)[-2:]\n",
    "\n",
    "# Exibir os índices das 2 features com a maior diferença\n",
    "print(\"Índices das 2 features com a maior diferença:\")\n",
    "print(top_2_attributes_indices)\n",
    "\n",
    "# Exibir os nomes das 2 features com a maior diferença\n",
    "top_2_attributes_names = dataframe.columns[top_2_attributes_indices]\n",
    "print(\"Nomes das 2 features com a maior diferença:\")\n",
    "print(top_2_attributes_names)\n"
   ]
  },
  {
   "cell_type": "code",
   "execution_count": null,
   "metadata": {},
   "outputs": [],
   "source": []
  }
 ],
 "metadata": {
  "kernelspec": {
   "display_name": ".venv",
   "language": "python",
   "name": "python3"
  },
  "language_info": {
   "codemirror_mode": {
    "name": "ipython",
    "version": 3
   },
   "file_extension": ".py",
   "mimetype": "text/x-python",
   "name": "python",
   "nbconvert_exporter": "python",
   "pygments_lexer": "ipython3",
   "version": "3.11.10"
  }
 },
 "nbformat": 4,
 "nbformat_minor": 2
}
